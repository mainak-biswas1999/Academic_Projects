{
 "cells": [
  {
   "cell_type": "code",
   "execution_count": 13,
   "metadata": {
    "executionInfo": {
     "elapsed": 523,
     "status": "ok",
     "timestamp": 1642043781077,
     "user": {
      "displayName": "Mainak Biswas",
      "photoUrl": "https://lh3.googleusercontent.com/a-/AOh14Gj3sAsrYqtxK4kPSVsSUYVA1wNCi_tb_d3pdxkk=s64",
      "userId": "10481254772904375685"
     },
     "user_tz": -330
    },
    "id": "hAxBusBKapG2"
   },
   "outputs": [],
   "source": [
    "#import required libraries\n",
    "import numpy as np\n",
    "import pandas as pd\n",
    "import matplotlib.pyplot as plt\n",
    "from sklearn import datasets"
   ]
  },
  {
   "cell_type": "code",
   "execution_count": 8,
   "metadata": {
    "scrolled": true
   },
   "outputs": [
    {
     "name": "stdout",
     "output_type": "stream",
     "text": [
      "   sepal length (cm)  sepal width (cm)  petal length (cm)  petal width (cm)\n",
      "0                5.1               3.5                1.4               0.2\n",
      "1                4.9               3.0                1.4               0.2\n",
      "2                4.7               3.2                1.3               0.2\n",
      "3                4.6               3.1                1.5               0.2\n",
      "4                5.0               3.6                1.4               0.2\n",
      "[0 1 2]\n",
      "{0: 'Iris-Setosa', 1: 'Iris-Versicolour', 2: 'Iris-Virginica'}\n"
     ]
    }
   ],
   "source": [
    "#load the iris dataset, it is a python dictionary\n",
    "iris = datasets.load_iris()\n",
    "#this converting is only for visualization purposes\n",
    "iris_df = pd.DataFrame(data=iris[\"data\"], columns=iris[\"feature_names\"])\n",
    "print(iris_df.head())\n",
    "print(np.unique(iris.target))\n",
    "print({0: \"Iris-Setosa\", 1: \"Iris-Versicolour\", 2:\"Iris-Virginica\" })"
   ]
  },
  {
   "cell_type": "code",
   "execution_count": 14,
   "metadata": {},
   "outputs": [
    {
     "name": "stdout",
     "output_type": "stream",
     "text": [
      "(150, 2) (150,)\n"
     ]
    }
   ],
   "source": [
    "#Task: Identify virginica from the rest based on  petal length (column 2) and petal width (column 3)\n",
    "X = iris[\"data\"][:, (2, 3)]  # petal length, petal width\n",
    "\n",
    "\n",
    "y = (iris[\"target\"] == 2).astype(np.int32) # 1 if Iris virginica, else 0\n",
    "print(X.shape, y.shape)"
   ]
  },
  {
   "cell_type": "code",
   "execution_count": 16,
   "metadata": {},
   "outputs": [
    {
     "name": "stdout",
     "output_type": "stream",
     "text": [
      "[[1.4 0.2]\n",
      " [1.4 0.2]\n",
      " [1.3 0.2]\n",
      " [1.5 0.2]\n",
      " [1.4 0.2]\n",
      " [1.7 0.4]\n",
      " [1.4 0.3]\n",
      " [1.5 0.2]\n",
      " [1.4 0.2]\n",
      " [1.5 0.1]\n",
      " [1.5 0.2]\n",
      " [1.6 0.2]\n",
      " [1.4 0.1]\n",
      " [1.1 0.1]\n",
      " [1.2 0.2]\n",
      " [1.5 0.4]\n",
      " [1.3 0.4]\n",
      " [1.4 0.3]\n",
      " [1.7 0.3]\n",
      " [1.5 0.3]\n",
      " [1.7 0.2]\n",
      " [1.5 0.4]\n",
      " [1.  0.2]\n",
      " [1.7 0.5]\n",
      " [1.9 0.2]\n",
      " [1.6 0.2]\n",
      " [1.6 0.4]\n",
      " [1.5 0.2]\n",
      " [1.4 0.2]\n",
      " [1.6 0.2]\n",
      " [1.6 0.2]\n",
      " [1.5 0.4]\n",
      " [1.5 0.1]\n",
      " [1.4 0.2]\n",
      " [1.5 0.2]\n",
      " [1.2 0.2]\n",
      " [1.3 0.2]\n",
      " [1.4 0.1]\n",
      " [1.3 0.2]\n",
      " [1.5 0.2]\n",
      " [1.3 0.3]\n",
      " [1.3 0.3]\n",
      " [1.3 0.2]\n",
      " [1.6 0.6]\n",
      " [1.9 0.4]\n",
      " [1.4 0.3]\n",
      " [1.6 0.2]\n",
      " [1.4 0.2]\n",
      " [1.5 0.2]\n",
      " [1.4 0.2]\n",
      " [4.7 1.4]\n",
      " [4.5 1.5]\n",
      " [4.9 1.5]\n",
      " [4.  1.3]\n",
      " [4.6 1.5]\n",
      " [4.5 1.3]\n",
      " [4.7 1.6]\n",
      " [3.3 1. ]\n",
      " [4.6 1.3]\n",
      " [3.9 1.4]\n",
      " [3.5 1. ]\n",
      " [4.2 1.5]\n",
      " [4.  1. ]\n",
      " [4.7 1.4]\n",
      " [3.6 1.3]\n",
      " [4.4 1.4]\n",
      " [4.5 1.5]\n",
      " [4.1 1. ]\n",
      " [4.5 1.5]\n",
      " [3.9 1.1]\n",
      " [4.8 1.8]\n",
      " [4.  1.3]\n",
      " [4.9 1.5]\n",
      " [4.7 1.2]\n",
      " [4.3 1.3]\n",
      " [4.4 1.4]\n",
      " [4.8 1.4]\n",
      " [5.  1.7]\n",
      " [4.5 1.5]\n",
      " [3.5 1. ]\n",
      " [3.8 1.1]\n",
      " [3.7 1. ]\n",
      " [3.9 1.2]\n",
      " [5.1 1.6]\n",
      " [4.5 1.5]\n",
      " [4.5 1.6]\n",
      " [4.7 1.5]\n",
      " [4.4 1.3]\n",
      " [4.1 1.3]\n",
      " [4.  1.3]\n",
      " [4.4 1.2]\n",
      " [4.6 1.4]\n",
      " [4.  1.2]\n",
      " [3.3 1. ]\n",
      " [4.2 1.3]\n",
      " [4.2 1.2]\n",
      " [4.2 1.3]\n",
      " [4.3 1.3]\n",
      " [3.  1.1]\n",
      " [4.1 1.3]\n",
      " [6.  2.5]\n",
      " [5.1 1.9]\n",
      " [5.9 2.1]\n",
      " [5.6 1.8]\n",
      " [5.8 2.2]\n",
      " [6.6 2.1]\n",
      " [4.5 1.7]\n",
      " [6.3 1.8]\n",
      " [5.8 1.8]\n",
      " [6.1 2.5]\n",
      " [5.1 2. ]\n",
      " [5.3 1.9]\n",
      " [5.5 2.1]\n",
      " [5.  2. ]\n",
      " [5.1 2.4]\n",
      " [5.3 2.3]\n",
      " [5.5 1.8]\n",
      " [6.7 2.2]\n",
      " [6.9 2.3]\n",
      " [5.  1.5]\n",
      " [5.7 2.3]\n",
      " [4.9 2. ]\n",
      " [6.7 2. ]\n",
      " [4.9 1.8]\n",
      " [5.7 2.1]\n",
      " [6.  1.8]\n",
      " [4.8 1.8]\n",
      " [4.9 1.8]\n",
      " [5.6 2.1]\n",
      " [5.8 1.6]\n",
      " [6.1 1.9]\n",
      " [6.4 2. ]\n",
      " [5.6 2.2]\n",
      " [5.1 1.5]\n",
      " [5.6 1.4]\n",
      " [6.1 2.3]\n",
      " [5.6 2.4]\n",
      " [5.5 1.8]\n",
      " [4.8 1.8]\n",
      " [5.4 2.1]\n",
      " [5.6 2.4]\n",
      " [5.1 2.3]\n",
      " [5.1 1.9]\n",
      " [5.9 2.3]\n",
      " [5.7 2.5]\n",
      " [5.2 2.3]\n",
      " [5.  1.9]\n",
      " [5.2 2. ]\n",
      " [5.4 2.3]\n",
      " [5.1 1.8]] [0 0 0 0 0 0 0 0 0 0 0 0 0 0 0 0 0 0 0 0 0 0 0 0 0 0 0 0 0 0 0 0 0 0 0 0 0\n",
      " 0 0 0 0 0 0 0 0 0 0 0 0 0 0 0 0 0 0 0 0 0 0 0 0 0 0 0 0 0 0 0 0 0 0 0 0 0\n",
      " 0 0 0 0 0 0 0 0 0 0 0 0 0 0 0 0 0 0 0 0 0 0 0 0 0 0 1 1 1 1 1 1 1 1 1 1 1\n",
      " 1 1 1 1 1 1 1 1 1 1 1 1 1 1 1 1 1 1 1 1 1 1 1 1 1 1 1 1 1 1 1 1 1 1 1 1 1\n",
      " 1 1]\n"
     ]
    }
   ],
   "source": [
    "print(X, y)\n",
    "#axis 1: rows: collapse across rows: get mean of the features"
   ]
  },
  {
   "cell_type": "code",
   "execution_count": 17,
   "metadata": {
    "colab": {
     "base_uri": "https://localhost:8080/",
     "height": 417
    },
    "executionInfo": {
     "elapsed": 719,
     "status": "ok",
     "timestamp": 1642046089617,
     "user": {
      "displayName": "Mainak Biswas",
      "photoUrl": "https://lh3.googleusercontent.com/a-/AOh14Gj3sAsrYqtxK4kPSVsSUYVA1wNCi_tb_d3pdxkk=s64",
      "userId": "10481254772904375685"
     },
     "user_tz": -330
    },
    "id": "oysuhtWYZ2et",
    "outputId": "685c55a6-eaed-4327-c2cc-ccb6c68a6497"
   },
   "outputs": [
    {
     "name": "stdout",
     "output_type": "stream",
     "text": [
      "naive decision boundary\n",
      "for z = w1x1 + w2x2 + b: (w1, w2) = [5.382 2.48 ]\n",
      "for z = w1x1 + w2x2 + b: c = -26.126262999999994\n"
     ]
    }
   ],
   "source": [
    "#Naive mean algorithm\n",
    "\n",
    "#select the data points from the numpy matrix (y==1: it will give us the points where virginica class is held)\n",
    "virginica = X[y==1]\n",
    "others = X[y==0]\n",
    "\n",
    "#calculate the mean of the virginica distribution\n",
    "mean_virginica = np.mean(virginica, axis=0)\n",
    "mean_others = np.mean(others, axis=0)\n",
    "\n",
    "a = 2*(mean_virginica - mean_others)\n",
    "b = np.sum(mean_others*mean_others) - np.sum(mean_virginica*mean_virginica)\n",
    "print(\"naive decision boundary\")\n",
    "print(\"for z = w1x1 + w2x2 + b: (w1, w2) =\",a)\n",
    "print(\"for z = w1x1 + w2x2 + b: c =\",b)\n",
    "\n",
    "#w2x2  = -w1x1 -b => x1 = -w1/w2 x -b/w2"
   ]
  },
  {
   "cell_type": "code",
   "execution_count": 12,
   "metadata": {},
   "outputs": [
    {
     "data": {
      "image/png": "[encoded data removed]",
      "text/plain": [
       "<Figure size 432x288 with 1 Axes>"
      ]
     },
     "metadata": {
      "needs_background": "light"
     },
     "output_type": "display_data"
    }
   ],
   "source": [
    "#a = [w1, w2]: x = [x, y]; w1.x + w2.y + b = 0 => y = -(w1/w2)x - b/w2\n",
    "m =  -a[0]/a[1]\n",
    "c = -b/a[1]\n",
    "x_n = np.arange(np.min(X[:, 0])+0.5, np.max(X[:, 0])+0.5, 1E-3)\n",
    "y_n = m*x_n + c\n",
    "#generate the plot\n",
    "plt.plot(x_n, y_n, color=[0,0,0], ls='--', label='Naive Mean model Decision boundary between Virginica and others')\n",
    "####################################################################################################################################################\n",
    "\n",
    "#s is the marker size array corresponding to each training example. Thus the y matrix can be used (plots only the virginica) as other radius is 0 and is ignored\n",
    "#Similarly 1-y is will show the other classes, multiplied by 10 to increase visibility\n",
    "plt.title(\"Virginica vs (versicolor and sentosa)\")\n",
    "plt.xlabel('Petal Length (in cm)')\n",
    "plt.ylabel(\"Petal width (in cm)\")\n",
    "plt.scatter(X[:, 0], X[:,1], s=10*y, marker='o', color = 'r', label = 'Virginica')\n",
    "plt.scatter(X[:, 0], X[:,1], s=10*(1-y), marker='o', color = 'b', label = 'Setosa or Versicolor')\n",
    "plt.legend(loc='upper center')\n",
    "plt.show()\n",
    "#####################################################################################################################################################"
   ]
  },
  {
   "cell_type": "code",
   "execution_count": null,
   "metadata": {
    "id": "6l1J31gKdS0f"
   },
   "outputs": [],
   "source": []
  }
 ],
 "metadata": {
  "colab": {
   "authorship_tag": "ABX9TyONzHbUfqcd66xxjlPbfaP+",
   "name": "Naive_MeanClassifier.ipynb",
   "provenance": []
  },
  "kernelspec": {
   "display_name": "Python 3 (ipykernel)",
   "language": "python",
   "name": "python3"
  },
  "language_info": {
   "codemirror_mode": {
    "name": "ipython",
    "version": 3
   },
   "file_extension": ".py",
   "mimetype": "text/x-python",
   "name": "python",
   "nbconvert_exporter": "python",
   "pygments_lexer": "ipython3",
   "version": "3.9.12"
  }
 },
 "nbformat": 4,
 "nbformat_minor": 1
}
